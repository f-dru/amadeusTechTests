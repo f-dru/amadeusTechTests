{
 "cells": [
  {
   "cell_type": "code",
   "execution_count": 1,
   "metadata": {
    "collapsed": true
   },
   "outputs": [],
   "source": [
    "import os\n",
    "import pandas as pd\n",
    "import matplotlib.pyplot as plt\n",
    "import bz2\n",
    "\n",
    "from GeoBases import GeoBase\n",
    "\n",
    "%matplotlib inline\n",
    "\n",
    "\n",
    "bookingsFile = r'./data/bookings.csv'\n",
    "searchesFile = r'./data/searches.csv'\n",
    "\n",
    "bookingsFileBz2 = r'./data/bookings.csv.bz2'\n",
    "searchesFileBz2 = r'./data/searches.csv.bz2'"
   ]
  },
  {
   "cell_type": "markdown",
   "metadata": {},
   "source": [
    "## Exercise 1: Count the number of lines in Python for each file"
   ]
  },
  {
   "cell_type": "code",
   "execution_count": 3,
   "metadata": {
    "collapsed": false
   },
   "outputs": [
    {
     "name": "stdout",
     "output_type": "stream",
     "text": [
      "Number of lines in file 'bookings.csv': 10000011\n",
      "Number of lines in file 'searches.csv': 20390198\n"
     ]
    }
   ],
   "source": [
    "# Since input CSV files are large, they will be read by blocks \n",
    "# to get the number of lines contained in each of them\n",
    "\n",
    "def readBlock(inFile, size=65536):\n",
    "    \"\"\"Read a block of size 'size' in 'inFile'\"\"\"\n",
    "    while True:\n",
    "        b = inFile.read(size)\n",
    "        if not b: \n",
    "            break\n",
    "        yield b\n",
    "\n",
    "def countNbLines(inFile):\n",
    "    \"\"\"Count, by blocks, the number of lines in 'inFile'\"\"\"\n",
    "    with open(inFile, 'r') as f:\n",
    "        return sum(block.count(\"\\n\") for block in readBlock(f))\n",
    "    \n",
    "\n",
    "for i in [bookingsFile, searchesFile]:\n",
    "    nbLines = countNbLines(i)\n",
    "    print \"Number of lines in file '{}': {}\".format(os.path.basename(i), nbLines)"
   ]
  },
  {
   "cell_type": "markdown",
   "metadata": {},
   "source": [
    "## Exercise 2: Get top 10 arrival airports in the world in 2013 (using the bookings file)"
   ]
  },
  {
   "cell_type": "code",
   "execution_count": 5,
   "metadata": {
    "collapsed": false
   },
   "outputs": [
    {
     "data": {
      "text/html": [
       "<div>\n",
       "<table border=\"1\" class=\"dataframe\">\n",
       "  <thead>\n",
       "    <tr style=\"text-align: right;\">\n",
       "      <th></th>\n",
       "      <th>act_date</th>\n",
       "      <th>source</th>\n",
       "      <th>pos_ctry</th>\n",
       "      <th>pos_iata</th>\n",
       "      <th>pos_oid</th>\n",
       "      <th>rloc</th>\n",
       "      <th>cre_date</th>\n",
       "      <th>duration</th>\n",
       "      <th>distance</th>\n",
       "      <th>dep_port</th>\n",
       "      <th>...</th>\n",
       "      <th>route</th>\n",
       "      <th>carrier</th>\n",
       "      <th>bkg_class</th>\n",
       "      <th>cab_class</th>\n",
       "      <th>brd_time</th>\n",
       "      <th>off_time</th>\n",
       "      <th>pax</th>\n",
       "      <th>year</th>\n",
       "      <th>month</th>\n",
       "      <th>oid</th>\n",
       "    </tr>\n",
       "  </thead>\n",
       "  <tbody>\n",
       "    <tr>\n",
       "      <th>0</th>\n",
       "      <td>2013-03-05 00:00:00</td>\n",
       "      <td>1A</td>\n",
       "      <td>DE</td>\n",
       "      <td>a68dd7ae953c8acfb187a1af2dcbe123</td>\n",
       "      <td>1a11ae49fcbf545fd2afc1a24d88d2b7</td>\n",
       "      <td>ea65900e72d71f4626378e2ebd298267</td>\n",
       "      <td>2013-02-22 00:00:00</td>\n",
       "      <td>1708</td>\n",
       "      <td>0</td>\n",
       "      <td>ZRH</td>\n",
       "      <td>...</td>\n",
       "      <td>LHRZRH</td>\n",
       "      <td>VI</td>\n",
       "      <td>T</td>\n",
       "      <td>Y</td>\n",
       "      <td>2013-03-07 08:50:00</td>\n",
       "      <td>2013-03-07 11:33:37</td>\n",
       "      <td>-1</td>\n",
       "      <td>2013</td>\n",
       "      <td>3</td>\n",
       "      <td>NULL</td>\n",
       "    </tr>\n",
       "  </tbody>\n",
       "</table>\n",
       "<p>1 rows × 38 columns</p>\n",
       "</div>"
      ],
      "text/plain": [
       "   act_date             source  pos_ctry                          pos_iata  \\\n",
       "0  2013-03-05 00:00:00  1A      DE        a68dd7ae953c8acfb187a1af2dcbe123   \n",
       "\n",
       "                          pos_oid                      rloc            \\\n",
       "0  1a11ae49fcbf545fd2afc1a24d88d2b7  ea65900e72d71f4626378e2ebd298267   \n",
       "\n",
       "   cre_date             duration  distance  dep_port    ...      \\\n",
       "0  2013-02-22 00:00:00      1708         0  ZRH         ...       \n",
       "\n",
       "   route           carrier  bkg_class  cab_class  brd_time             \\\n",
       "0  LHRZRH               VI  T          Y          2013-03-07 08:50:00   \n",
       "\n",
       "   off_time            pax  year month  oid        \n",
       "0  2013-03-07 11:33:37  -1  2013     3  NULL       \n",
       "\n",
       "[1 rows x 38 columns]"
      ]
     },
     "execution_count": 5,
     "metadata": {},
     "output_type": "execute_result"
    }
   ],
   "source": [
    "# First get only first line of the CSV file in order to have the list of columns\n",
    "df_bookings = pd.read_csv(bookingsFileBz2, compression='bz2', error_bad_lines=False, sep='^', nrows=1)\n",
    "\n",
    "df_bookings"
   ]
  },
  {
   "cell_type": "code",
   "execution_count": 6,
   "metadata": {
    "collapsed": false
   },
   "outputs": [
    {
     "name": "stdout",
     "output_type": "stream",
     "text": [
      "=== Top ten arrival airports in the world in 2013, with number of passengers ===\n",
      "\n",
      "   Code                               Airport  NbPass\n",
      "1   LHR               London Heathrow Airport   88809\n",
      "2   MCO         Orlando International Airport   70930\n",
      "3   LAX     Los Angeles International Airport   70530\n",
      "4   LAS        McCarran International Airport   69630\n",
      "5   JFK  John F Kennedy International Airport   66270\n",
      "6   CDG             Paris - Charles-de-Gaulle   64490\n",
      "7   BKK                          Suvarnabhumi   59460\n",
      "8   MIA           Miami International Airport   58150\n",
      "9   SFO   San Francisco International Airport   58000\n",
      "10  DXB           Dubai International Airport   55590\n"
     ]
    }
   ],
   "source": [
    "# Then get index of columns 'arr_port' and 'pax' in order to load only those columns when loading the whole file\n",
    "# This because entire file cannot be fully loaded due to memory limits\n",
    "colList = df_bookings.columns.tolist()\n",
    "\n",
    "# Create a sub-list of columns to be loaded\n",
    "colSubList = list()\n",
    "for i in ['arr_port', 'pax']:\n",
    "    index = colList.index(i)\n",
    "    colSubList.append(colList[index])\n",
    "\n",
    "df_bookings = pd.read_csv(bookingsFileBz2, compression='bz2', error_bad_lines=False, sep='^', usecols=colSubList)\n",
    "df_bookings.dropna()\n",
    "\n",
    "\n",
    "# Group by airport, sum on 'pax' column and sort values in descending order\n",
    "df_airport = df_bookings.groupby(['arr_port'], sort=False)['pax'].sum()\n",
    "df_airport = df_airport.sort_values(ascending=False)\n",
    "\n",
    "# Get top 10 airports\n",
    "df_airport = df_airport[:10]\n",
    "\n",
    "# 'Geobase' module will be used to get corresponding city or airport for each airport code in 'df_airport'\n",
    "geo_airports = GeoBase(data='airports', verbose=False)\n",
    "\n",
    "# And print\n",
    "print \"=== Top ten arrival airports in the world in 2013, with number of passengers ===\\n\"\n",
    "\n",
    "listAirportsCode = df_airport.index.tolist()\n",
    "d = {'Code': [i.strip() for i in listAirportsCode],\n",
    "    'Airport': [geo_airports.get(airportCode.strip(), 'name', default='Unknown') for airportCode in listAirportsCode],\n",
    "    'NbPass': df_airport.values.astype('int').tolist()\n",
    "    }\n",
    "\n",
    "df_topTen = pd.DataFrame(d, columns=['Code', 'Airport', 'NbPass'],index=range(1,11))\n",
    "print(df_topTen)\n",
    "\n",
    "del df_bookings"
   ]
  },
  {
   "cell_type": "markdown",
   "metadata": {},
   "source": [
    "## Exercise 3: Plot the monthly number of searches for flights arriving at Málaga, Madrid or Barcelona"
   ]
  },
  {
   "cell_type": "code",
   "execution_count": 13,
   "metadata": {
    "collapsed": false
   },
   "outputs": [
    {
     "data": {
      "text/html": [
       "<div>\n",
       "<table border=\"1\" class=\"dataframe\">\n",
       "  <thead>\n",
       "    <tr style=\"text-align: right;\">\n",
       "      <th></th>\n",
       "      <th>Date</th>\n",
       "      <th>Time</th>\n",
       "      <th>TxnCode</th>\n",
       "      <th>OfficeID</th>\n",
       "      <th>Country</th>\n",
       "      <th>Origin</th>\n",
       "      <th>Destination</th>\n",
       "      <th>RoundTrip</th>\n",
       "      <th>NbSegments</th>\n",
       "      <th>Seg1Departure</th>\n",
       "      <th>...</th>\n",
       "      <th>Seg6Arrival</th>\n",
       "      <th>Seg6Date</th>\n",
       "      <th>Seg6Carrier</th>\n",
       "      <th>Seg6BookingCode</th>\n",
       "      <th>From</th>\n",
       "      <th>IsPublishedForNeg</th>\n",
       "      <th>IsFromInternet</th>\n",
       "      <th>IsFromVista</th>\n",
       "      <th>TerminalID</th>\n",
       "      <th>InternetOffice</th>\n",
       "    </tr>\n",
       "  </thead>\n",
       "  <tbody>\n",
       "    <tr>\n",
       "      <th>0</th>\n",
       "      <td>2013-01-01</td>\n",
       "      <td>20:25:57</td>\n",
       "      <td>MPT</td>\n",
       "      <td>624d8c3ac0b3a7ca03e3c167e0f48327</td>\n",
       "      <td>DE</td>\n",
       "      <td>TXL</td>\n",
       "      <td>AUH</td>\n",
       "      <td>1</td>\n",
       "      <td>2</td>\n",
       "      <td>TXL</td>\n",
       "      <td>...</td>\n",
       "      <td>NaN</td>\n",
       "      <td>NaN</td>\n",
       "      <td>NaN</td>\n",
       "      <td>NaN</td>\n",
       "      <td>1ASIWS</td>\n",
       "      <td>0</td>\n",
       "      <td>0</td>\n",
       "      <td>0</td>\n",
       "      <td>d41d8cd98f00b204e9800998ecf8427e</td>\n",
       "      <td>FRA</td>\n",
       "    </tr>\n",
       "  </tbody>\n",
       "</table>\n",
       "<p>1 rows × 45 columns</p>\n",
       "</div>"
      ],
      "text/plain": [
       "         Date      Time TxnCode                          OfficeID Country  \\\n",
       "0  2013-01-01  20:25:57     MPT  624d8c3ac0b3a7ca03e3c167e0f48327      DE   \n",
       "\n",
       "  Origin Destination  RoundTrip  NbSegments Seg1Departure       ...        \\\n",
       "0    TXL         AUH          1           2           TXL       ...         \n",
       "\n",
       "  Seg6Arrival Seg6Date Seg6Carrier  Seg6BookingCode    From IsPublishedForNeg  \\\n",
       "0         NaN      NaN         NaN              NaN  1ASIWS                 0   \n",
       "\n",
       "  IsFromInternet IsFromVista                        TerminalID  InternetOffice  \n",
       "0              0           0  d41d8cd98f00b204e9800998ecf8427e             FRA  \n",
       "\n",
       "[1 rows x 45 columns]"
      ]
     },
     "execution_count": 13,
     "metadata": {},
     "output_type": "execute_result"
    }
   ],
   "source": [
    "# First get only first line of the CSV file in order to have the list of columns\n",
    "df_searches = pd.read_csv(searchesFileBz2, compression='bz2', error_bad_lines=False, sep='^', nrows=1)\n",
    "\n",
    "df_searches"
   ]
  },
  {
   "cell_type": "code",
   "execution_count": 14,
   "metadata": {
    "collapsed": false
   },
   "outputs": [
    {
     "data": {
      "image/png": "[encoded data removed]",
      "text/plain": [
       "<matplotlib.figure.Figure at 0xe32bdf0>"
      ]
     },
     "metadata": {},
     "output_type": "display_data"
    }
   ],
   "source": [
    "def getAirportCode(airportName):\n",
    "    \"\"\"Return airport code corresponding to input airport name 'airportName'\"\"\"\n",
    "    \n",
    "    # First perform a fuzzy find to get all potential matching airports\n",
    "    geo_airports = GeoBase(data='airports', verbose=False)\n",
    "    matchingList = geo_airports.fuzzyFind(airportName, 'name')\n",
    "    \n",
    "    # Then loop through results to get the righ corresponding code\n",
    "    airportCode = ''\n",
    "    for _,code in matchingList:\n",
    "        if airportName in geo_airports.get(code, 'name'):\n",
    "            airportCode = code\n",
    "            break\n",
    "            \n",
    "    return airportCode\n",
    "\n",
    "\n",
    "def getSearchesByAirportByMonth(airport, df_searches):\n",
    "    \"\"\"Return a data frame with total number of searches by month for 'airport'\"\"\"     \n",
    "    \n",
    "    # Select searches for 'airport'\n",
    "    selection = df_searches[df_searches.Destination == airport]\n",
    "\n",
    "    # Make 'Date' values 'dateTime' values\n",
    "    dateTimeInfo = pd.to_datetime(selection.loc[:, 'Date'])\n",
    "    selection.loc[:, 'Date'] = dateTimeInfo\n",
    "\n",
    "    # Group searches by month\n",
    "    gp = selection.groupby([pd.Grouper(key='Date', freq='1M')])\n",
    "\n",
    "    totalPerMonth = gp.count()\n",
    "\n",
    "    totalPerMonth.drop('Destination', axis=1, inplace=True)\n",
    "    totalPerMonth.columns = [airport]\n",
    "\n",
    "    return totalPerMonth\n",
    "\n",
    "\n",
    "# Get index of columns 'arr_port' and 'pax' in order to load only those columns when loading the whole file\n",
    "# This because entire file cannot be fully loaded due to memory limits\n",
    "colList = df_searches.columns.tolist()\n",
    "\n",
    "# Create a sub-list of columns to be loaded\n",
    "colSubList = list()\n",
    "for i in ['Date', 'Destination']:\n",
    "    index = colList.index(i)\n",
    "    colSubList.append(colList[index])\n",
    "\n",
    "# Then load file\n",
    "df_searches = pd.read_csv(searchesFileBz2, compression='bz2', error_bad_lines=False, sep='^', usecols=colSubList)\n",
    "\n",
    "# Get airports code\n",
    "malagaCode = getAirportCode('Malaga')\n",
    "madridCode = getAirportCode('Madrid')\n",
    "barcelonaCode = getAirportCode('Barcelona')\n",
    "\n",
    "# Get number of searches per airport by month\n",
    "malaga = getSearchesByAirportByMonth(malagaCode, df_searches)\n",
    "madrid = getSearchesByAirportByMonth(madridCode, df_searches)\n",
    "barcelona = getSearchesByAirportByMonth(barcelonaCode, df_searches)\n",
    "\n",
    "# And plot\n",
    "a_axis = malaga.plot()\n",
    "madrid.plot(ax = a_axis)\n",
    "barcelona.plot(ax = a_axis)\n",
    "\n",
    "del df_searches"
   ]
  }
 ],
 "metadata": {
  "kernelspec": {
   "display_name": "Python 2",
   "language": "python",
   "name": "python2"
  },
  "language_info": {
   "codemirror_mode": {
    "name": "ipython",
    "version": 2
   },
   "file_extension": ".py",
   "mimetype": "text/x-python",
   "name": "python",
   "nbconvert_exporter": "python",
   "pygments_lexer": "ipython2",
   "version": "2.7.8"
  }
 },
 "nbformat": 4,
 "nbformat_minor": 0
}
